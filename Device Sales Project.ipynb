{
 "cells": [
  {
   "cell_type": "code",
   "execution_count": 31,
   "id": "3e2dcea9",
   "metadata": {
    "scrolled": false
   },
   "outputs": [
    {
     "data": {
      "text/html": [
       "<div>\n",
       "<style scoped>\n",
       "    .dataframe tbody tr th:only-of-type {\n",
       "        vertical-align: middle;\n",
       "    }\n",
       "\n",
       "    .dataframe tbody tr th {\n",
       "        vertical-align: top;\n",
       "    }\n",
       "\n",
       "    .dataframe thead tr th {\n",
       "        text-align: left;\n",
       "    }\n",
       "\n",
       "    .dataframe thead tr:last-of-type th {\n",
       "        text-align: right;\n",
       "    }\n",
       "</style>\n",
       "<table border=\"1\" class=\"dataframe\">\n",
       "  <thead>\n",
       "    <tr>\n",
       "      <th></th>\n",
       "      <th colspan=\"3\" halign=\"left\">Sales $</th>\n",
       "      <th>Grand total</th>\n",
       "    </tr>\n",
       "    <tr>\n",
       "      <th>Device Type</th>\n",
       "      <th>Desktop</th>\n",
       "      <th>Mobile Phone</th>\n",
       "      <th>Tablet</th>\n",
       "      <th></th>\n",
       "    </tr>\n",
       "    <tr>\n",
       "      <th>Month</th>\n",
       "      <th></th>\n",
       "      <th></th>\n",
       "      <th></th>\n",
       "      <th></th>\n",
       "    </tr>\n",
       "  </thead>\n",
       "  <tbody>\n",
       "    <tr>\n",
       "      <th>Jan</th>\n",
       "      <td>241254.3</td>\n",
       "      <td>63408.3</td>\n",
       "      <td>24532.8</td>\n",
       "      <td>329195.4</td>\n",
       "    </tr>\n",
       "    <tr>\n",
       "      <th>Feb</th>\n",
       "      <td>470386.2</td>\n",
       "      <td>160489.8</td>\n",
       "      <td>57776.1</td>\n",
       "      <td>688652.1</td>\n",
       "    </tr>\n",
       "  </tbody>\n",
       "</table>\n",
       "</div>"
      ],
      "text/plain": [
       "              Sales $                       Grand total\n",
       "Device Type   Desktop Mobile Phone   Tablet            \n",
       "Month                                                  \n",
       "Jan          241254.3      63408.3  24532.8    329195.4\n",
       "Feb          470386.2     160489.8  57776.1    688652.1"
      ]
     },
     "execution_count": 31,
     "metadata": {},
     "output_type": "execute_result"
    }
   ],
   "source": [
    "import pandas as pd\n",
    "df = pd.read_excel(open('Test-business analysis.xlsx', 'rb'), sheet_name ='Device data')\n",
    "\n",
    "# Rename column\n",
    "df = df.rename(columns={'Day':'Month'})\n",
    "\n",
    "# pivot table\n",
    "table = pd.pivot_table(df[df['Month'].dt.strftime('%b') != 'Mar'],index=[df['Month'].dt.strftime('%b')], \n",
    "                       columns=['Device Type'],values=['Sales $'],aggfunc=sum)\n",
    "\n",
    "# add grand total\n",
    "table['Grand total'] = table.sum(axis=1)\n",
    "\n",
    "#sort table\n",
    "table = table.sort_values(by='Month', ascending = False)\n",
    "\n",
    "table"
   ]
  },
  {
   "cell_type": "code",
   "execution_count": 32,
   "id": "9a578915",
   "metadata": {
    "scrolled": true
   },
   "outputs": [
    {
     "data": {
      "image/png": "[encoded data removed]",
      "text/plain": [
       "<Figure size 432x288 with 1 Axes>"
      ]
     },
     "metadata": {
      "needs_background": "light"
     },
     "output_type": "display_data"
    }
   ],
   "source": [
    "table.plot(kind='bar');"
   ]
  }
 ],
 "metadata": {
  "kernelspec": {
   "display_name": "Python 3 (ipykernel)",
   "language": "python",
   "name": "python3"
  },
  "language_info": {
   "codemirror_mode": {
    "name": "ipython",
    "version": 3
   },
   "file_extension": ".py",
   "mimetype": "text/x-python",
   "name": "python",
   "nbconvert_exporter": "python",
   "pygments_lexer": "ipython3",
   "version": "3.9.7"
  }
 },
 "nbformat": 4,
 "nbformat_minor": 5
}
